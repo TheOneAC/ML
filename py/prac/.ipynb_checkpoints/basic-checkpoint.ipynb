{
 "metadata": {
  "name": "",
  "signature": "sha256:95ef32242309013b5e586fc5d51ab1f0446dbe866ed92ab61fe7a76bbe6fb6c6"
 },
 "nbformat": 3,
 "nbformat_minor": 0,
 "worksheets": []
}